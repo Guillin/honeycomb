{
 "cells": [
  {
   "cell_type": "code",
   "execution_count": 1,
   "metadata": {},
   "outputs": [],
   "source": [
    "import torch\n",
    "import torch.nn as nn\n",
    "import torchvision.transforms as transforms\n",
    "import torchvision.datasets as dsets\n",
    "from torch.autograd import Variable"
   ]
  },
  {
   "cell_type": "code",
   "execution_count": 2,
   "metadata": {},
   "outputs": [],
   "source": [
    "from sklearn.metrics import balanced_accuracy_score"
   ]
  },
  {
   "cell_type": "code",
   "execution_count": 3,
   "metadata": {},
   "outputs": [],
   "source": [
    "from torch.utils.data import Dataset, DataLoader"
   ]
  },
  {
   "cell_type": "code",
   "execution_count": 4,
   "metadata": {},
   "outputs": [],
   "source": [
    "import pandas as pd\n",
    "import pickle"
   ]
  },
  {
   "cell_type": "code",
   "execution_count": 5,
   "metadata": {},
   "outputs": [],
   "source": [
    "import torch.utils.data as utils"
   ]
  },
  {
   "cell_type": "code",
   "execution_count": 6,
   "metadata": {},
   "outputs": [],
   "source": [
    "import numpy as np"
   ]
  },
  {
   "cell_type": "code",
   "execution_count": 7,
   "metadata": {},
   "outputs": [],
   "source": [
    "from barbar import Bar"
   ]
  },
  {
   "cell_type": "code",
   "execution_count": 8,
   "metadata": {},
   "outputs": [
    {
     "data": {
      "text/plain": [
       "<torch._C.Generator at 0x7f5bff9eb6f0>"
      ]
     },
     "execution_count": 8,
     "metadata": {},
     "output_type": "execute_result"
    }
   ],
   "source": [
    "torch.manual_seed(27)"
   ]
  },
  {
   "cell_type": "markdown",
   "metadata": {},
   "source": [
    "### STEP 2: LOADING DATASET "
   ]
  },
  {
   "cell_type": "code",
   "execution_count": 9,
   "metadata": {},
   "outputs": [],
   "source": [
    "class CattleSoundDataset(Dataset):\n",
    "    \"\"\" FreeSound dataset.\"\"\"\n",
    "\n",
    "    # Initialize your data, download, etc.\n",
    "    def __init__(self, X, y):\n",
    "        \n",
    "        self.len = X.shape[0]\n",
    "        self.x_data = torch.from_numpy(X)\n",
    "        self.y_data = torch.from_numpy(y)\n",
    "\n",
    "    def __getitem__(self, index):\n",
    "        return (self.x_data[index], self.y_data[index])\n",
    "\n",
    "    def __len__(self):\n",
    "        return self.len"
   ]
  },
  {
   "cell_type": "code",
   "execution_count": 10,
   "metadata": {},
   "outputs": [],
   "source": [
    "X_train = np.load('data/train_test/X_mel_train.npy')"
   ]
  },
  {
   "cell_type": "code",
   "execution_count": 11,
   "metadata": {},
   "outputs": [],
   "source": [
    "X_test = np.load('data/train_test/X_mel_test.npy')"
   ]
  },
  {
   "cell_type": "code",
   "execution_count": 12,
   "metadata": {},
   "outputs": [],
   "source": [
    "y_train = np.load('data/train_test/y_mel_train.npy')"
   ]
  },
  {
   "cell_type": "code",
   "execution_count": 13,
   "metadata": {},
   "outputs": [],
   "source": [
    "y_test = np.load('data/train_test/y_mel_test.npy')"
   ]
  },
  {
   "cell_type": "code",
   "execution_count": 14,
   "metadata": {},
   "outputs": [
    {
     "name": "stdout",
     "output_type": "stream",
     "text": [
      "X_train: (1072, 60, 35)\n",
      "X_test: (460, 60, 35)\n",
      "y_train: (1072,)\n",
      "y_test: (460,)\n"
     ]
    }
   ],
   "source": [
    "print('X_train:', X_train.shape)\n",
    "\n",
    "print('X_test:', X_test.shape)\n",
    "\n",
    "print('y_train:', y_train.shape)\n",
    "print('y_test:', y_test.shape)"
   ]
  },
  {
   "cell_type": "code",
   "execution_count": 15,
   "metadata": {},
   "outputs": [],
   "source": [
    "train_dataset = CattleSoundDataset(X_train, y_train)"
   ]
  },
  {
   "cell_type": "code",
   "execution_count": 16,
   "metadata": {},
   "outputs": [],
   "source": [
    "test_dataset = CattleSoundDataset(X_test, y_test)"
   ]
  },
  {
   "cell_type": "markdown",
   "metadata": {},
   "source": [
    "### STEP 2: MAKING DATASET ITERABLE"
   ]
  },
  {
   "cell_type": "code",
   "execution_count": 17,
   "metadata": {},
   "outputs": [],
   "source": [
    "batch_size = 32\n",
    "n_iters = 3000\n",
    "num_epochs = n_iters / (len(train_dataset) / batch_size)\n",
    "num_epochs = int(num_epochs)"
   ]
  },
  {
   "cell_type": "code",
   "execution_count": 18,
   "metadata": {},
   "outputs": [
    {
     "data": {
      "text/plain": [
       "89"
      ]
     },
     "execution_count": 18,
     "metadata": {},
     "output_type": "execute_result"
    }
   ],
   "source": [
    "num_epochs"
   ]
  },
  {
   "cell_type": "code",
   "execution_count": 19,
   "metadata": {},
   "outputs": [],
   "source": [
    "transformations = transforms.Compose([transforms.ToTensor()])"
   ]
  },
  {
   "cell_type": "code",
   "execution_count": 20,
   "metadata": {},
   "outputs": [],
   "source": [
    "train_loader = torch.utils.data.DataLoader(dataset=train_dataset, \n",
    "                                           batch_size= batch_size, \n",
    "                                           shuffle=True)"
   ]
  },
  {
   "cell_type": "code",
   "execution_count": 21,
   "metadata": {},
   "outputs": [],
   "source": [
    "test_loader = torch.utils.data.DataLoader(dataset=test_dataset, \n",
    "                                          batch_size=batch_size, \n",
    "                                          shuffle=False)"
   ]
  },
  {
   "cell_type": "markdown",
   "metadata": {},
   "source": [
    "### STEP 3: CREATE MODEL CLASS"
   ]
  },
  {
   "cell_type": "code",
   "execution_count": 22,
   "metadata": {},
   "outputs": [],
   "source": [
    "class ConvBlock(nn.Module):\n",
    "    def __init__(self, in_channels, out_channels):\n",
    "        super().__init__()\n",
    "        \n",
    "        self.conv1 = nn.Sequential(\n",
    "            nn.Conv2d(in_channels, out_channels, kernel_size=3, stride=1, padding=(1,1)),\n",
    "            nn.BatchNorm2d(out_channels),\n",
    "            nn.ReLU(),\n",
    "        )\n",
    "        self.conv2 = nn.Sequential(\n",
    "            nn.Conv2d(out_channels, out_channels, kernel_size=3, stride=1, padding=(1,1)),\n",
    "            nn.BatchNorm2d(out_channels),\n",
    "            nn.ReLU(),\n",
    "        )\n",
    "\n",
    "        self.max_pool = nn.MaxPool2d(2)\n",
    "        self._init_weights()\n",
    "        \n",
    "    def _init_weights(self):\n",
    "        for m in self.modules():\n",
    "            if isinstance(m, nn.Conv2d):\n",
    "                nn.init.kaiming_normal_(m.weight)\n",
    "                if m.bias is not None:\n",
    "                    nn.init.zeros_(m.bias)\n",
    "            elif isinstance(m, nn.BatchNorm2d):\n",
    "                nn.init.constant_(m.weight, 1)\n",
    "                nn.init.zeros_(m.bias)\n",
    "        \n",
    "    def forward(self, x):\n",
    "        x = self.conv1(x)\n",
    "        x = self.conv2(x)\n",
    "        x = self.max_pool(x)\n",
    "        return x"
   ]
  },
  {
   "cell_type": "code",
   "execution_count": 23,
   "metadata": {},
   "outputs": [],
   "source": [
    "class CNNModel(nn.Module):\n",
    "    def __init__(self, num_classes):\n",
    "        super().__init__()\n",
    "        \n",
    "        self.conv = nn.Sequential(\n",
    "            ConvBlock(in_channels=1, out_channels=32),\n",
    "            ConvBlock(in_channels=32, out_channels=64),\n",
    "        )\n",
    "        \n",
    "        self.fc = nn.Sequential(\n",
    "            nn.Dropout(0.2),\n",
    "            nn.Linear(7680, 1024),\n",
    "            nn.PReLU(),\n",
    "            nn.BatchNorm1d(1024),\n",
    "            nn.Dropout(0.1),\n",
    "            nn.Linear(1024, num_classes),\n",
    "        )\n",
    "\n",
    "    def forward(self, x):\n",
    "        out = self.conv(x)\n",
    "        out = out.view(out.size(0), -1)\n",
    "        #x = torch.mean(x, dim=3)\n",
    "        #x, _ = torch.max(x, dim=2)\n",
    "        out = self.fc(out)\n",
    "        return out"
   ]
  },
  {
   "cell_type": "markdown",
   "metadata": {},
   "source": [
    "### STEP 4: INSTANTIATE MODEL CLASS"
   ]
  },
  {
   "cell_type": "code",
   "execution_count": 24,
   "metadata": {},
   "outputs": [],
   "source": [
    "model = CNNModel(num_classes=3)"
   ]
  },
  {
   "cell_type": "code",
   "execution_count": 25,
   "metadata": {},
   "outputs": [],
   "source": [
    "#######################\n",
    "#  USE GPU FOR MODEL  #\n",
    "#######################\n",
    "\n",
    "if torch.cuda.is_available():\n",
    "    model.cuda()"
   ]
  },
  {
   "cell_type": "markdown",
   "metadata": {},
   "source": [
    "### STEP 5: INSTANTIATE LOSS CLASS"
   ]
  },
  {
   "cell_type": "code",
   "execution_count": 26,
   "metadata": {},
   "outputs": [],
   "source": [
    "criterion = nn.CrossEntropyLoss().cuda()"
   ]
  },
  {
   "cell_type": "markdown",
   "metadata": {},
   "source": [
    "### STEP 6: INSTANTIATE OPTIMIZER CLASS"
   ]
  },
  {
   "cell_type": "code",
   "execution_count": 27,
   "metadata": {},
   "outputs": [],
   "source": [
    "learning_rate = 0.01\n",
    "\n",
    "optimizer = torch.optim.Adam(model.parameters(), lr=learning_rate)"
   ]
  },
  {
   "cell_type": "markdown",
   "metadata": {},
   "source": [
    "### STEP 7: TRAIN THE MODEL"
   ]
  },
  {
   "cell_type": "code",
   "execution_count": 30,
   "metadata": {},
   "outputs": [
    {
     "name": "stdout",
     "output_type": "stream",
     "text": [
      "Epoch: 1\n",
      "1072/1072: [===============================>] - ETA 0.0s\n",
      "Epoch: 2\n",
      "1072/1072: [===============================>] - ETA 0.0s\n",
      "Epoch: 3\n",
      "1072/1072: [===============================>] - ETA 0.0s\n",
      "Epoch: 4\n",
      "1072/1072: [===============================>] - ETA 0.0s\n",
      "Epoch: 5\n",
      "1072/1072: [===============================>] - ETA 0.0s\n",
      "Epoch: 6\n",
      "1072/1072: [===============================>] - ETA 0.0s\n",
      "Epoch: 7\n",
      "1072/1072: [===============================>] - ETA 0.0s\n",
      "Epoch: 8\n",
      "1072/1072: [===============================>] - ETA 0.0s\n",
      "Epoch: 9\n",
      "1072/1072: [===============================>] - ETA 0.0s\n",
      "Epoch: 10\n",
      "1072/1072: [===============================>] - ETA 0.0s\n",
      "Epoch: 11\n",
      "1072/1072: [===============================>] - ETA 0.0s\n",
      "Epoch: 12\n",
      "1072/1072: [===============================>] - ETA 0.0s\n",
      "Epoch: 13\n",
      "1072/1072: [===============================>] - ETA 0.0s\n",
      "Epoch: 14\n",
      "1072/1072: [===============================>] - ETA 0.0s\n",
      "Epoch: 15\n",
      " 768/1072: [=====================>..........] - ETA 0.1s\n",
      "Iteration: 500. Loss: 0.14778205752372742. Balanced Accuracy: 0.7231648280035378\n",
      "1072/1072: [===============================>] - ETA 0.0s\n",
      "Epoch: 16\n",
      "1072/1072: [===============================>] - ETA 0.0s\n",
      "Epoch: 17\n",
      "1072/1072: [===============================>] - ETA 0.0s\n",
      "Epoch: 18\n",
      "1072/1072: [===============================>] - ETA 0.0s\n",
      "Epoch: 19\n",
      "1072/1072: [===============================>] - ETA 0.0s\n",
      "Epoch: 20\n",
      "1072/1072: [===============================>] - ETA 0.0s\n",
      "Epoch: 21\n",
      "1072/1072: [===============================>] - ETA 0.0s\n",
      "Epoch: 22\n",
      "1072/1072: [===============================>] - ETA 0.0s\n",
      "Epoch: 23\n",
      "1072/1072: [===============================>] - ETA 0.0s\n",
      "Epoch: 24\n",
      "1072/1072: [===============================>] - ETA 0.0s\n",
      "Epoch: 25\n",
      "1072/1072: [===============================>] - ETA 0.0s\n",
      "Epoch: 26\n",
      "1072/1072: [===============================>] - ETA 0.0s\n",
      "Epoch: 27\n",
      "1072/1072: [===============================>] - ETA 0.0s\n",
      "Epoch: 28\n",
      "1072/1072: [===============================>] - ETA 0.0s\n",
      "Epoch: 29\n",
      "1072/1072: [===============================>] - ETA 0.0s\n",
      "Epoch: 30\n",
      " 448/1072: [============>...................] - ETA 0.2s\n",
      "Iteration: 1000. Loss: 0.0716099888086319. Balanced Accuracy: 0.6859381060993964\n",
      "1072/1072: [===============================>] - ETA 0.0s\n",
      "Epoch: 31\n",
      "1072/1072: [===============================>] - ETA 0.0s\n",
      "Epoch: 32\n",
      "1072/1072: [===============================>] - ETA 0.0s\n",
      "Epoch: 33\n",
      "1072/1072: [===============================>] - ETA 0.0s\n",
      "Epoch: 34\n",
      "1072/1072: [===============================>] - ETA 0.0s\n",
      "Epoch: 35\n",
      "1072/1072: [===============================>] - ETA 0.0s\n",
      "Epoch: 36\n",
      "1072/1072: [===============================>] - ETA 0.0s\n",
      "Epoch: 37\n",
      "1072/1072: [===============================>] - ETA 0.0s\n",
      "Epoch: 38\n",
      "1072/1072: [===============================>] - ETA 0.0s\n",
      "Epoch: 39\n",
      "1072/1072: [===============================>] - ETA 0.0s\n",
      "Epoch: 40\n",
      "1072/1072: [===============================>] - ETA 0.0s\n",
      "Epoch: 41\n",
      "1072/1072: [===============================>] - ETA 0.0s\n",
      "Epoch: 42\n",
      "1072/1072: [===============================>] - ETA 0.0s\n",
      "Epoch: 43\n",
      "1072/1072: [===============================>] - ETA 0.0s\n",
      "Epoch: 44\n",
      "1072/1072: [===============================>] - ETA 0.0s\n",
      "Epoch: 45\n",
      " 128/1072: [==>.............................] - ETA 0.3s\n",
      "Iteration: 1500. Loss: 0.0030286312103271484. Balanced Accuracy: 0.7201956844429963\n",
      "1072/1072: [===============================>] - ETA 0.0s\n",
      "Epoch: 46\n",
      "1072/1072: [===============================>] - ETA 0.0s\n",
      "Epoch: 47\n",
      "1072/1072: [===============================>] - ETA 0.0s\n",
      "Epoch: 48\n",
      "1072/1072: [===============================>] - ETA 0.0s\n",
      "Epoch: 49\n",
      "1072/1072: [===============================>] - ETA 0.0s\n",
      "Epoch: 50\n",
      "1072/1072: [===============================>] - ETA 0.0s\n",
      "Epoch: 51\n",
      "1072/1072: [===============================>] - ETA 0.0s\n",
      "Epoch: 52\n",
      "1072/1072: [===============================>] - ETA 0.0s\n",
      "Epoch: 53\n",
      "1072/1072: [===============================>] - ETA 0.0s\n",
      "Epoch: 54\n",
      "1072/1072: [===============================>] - ETA 0.0s\n",
      "Epoch: 55\n",
      "1072/1072: [===============================>] - ETA 0.0s\n",
      "Epoch: 56\n",
      "1072/1072: [===============================>] - ETA 0.0s\n",
      "Epoch: 57\n",
      "1072/1072: [===============================>] - ETA 0.0s\n",
      "Epoch: 58\n",
      "1072/1072: [===============================>] - ETA 0.0s\n",
      "Epoch: 59\n",
      " 896/1072: [=========================>......] - ETA 0.1s\n",
      "Iteration: 2000. Loss: 0.010079659521579742. Balanced Accuracy: 0.7105539522206188\n",
      "1072/1072: [===============================>] - ETA 0.0s\n",
      "Epoch: 60\n",
      "1072/1072: [===============================>] - ETA 0.0s\n",
      "Epoch: 61\n",
      "1072/1072: [===============================>] - ETA 0.0s\n",
      "Epoch: 62\n",
      "1072/1072: [===============================>] - ETA 0.0s\n",
      "Epoch: 63\n",
      "1072/1072: [===============================>] - ETA 0.0s\n",
      "Epoch: 64\n",
      "1072/1072: [===============================>] - ETA 0.0s\n",
      "Epoch: 65\n",
      "1072/1072: [===============================>] - ETA 0.0s\n",
      "Epoch: 66\n",
      "1072/1072: [===============================>] - ETA 0.0s\n",
      "Epoch: 67\n",
      "1072/1072: [===============================>] - ETA 0.0s\n",
      "Epoch: 68\n",
      "1072/1072: [===============================>] - ETA 0.0s\n",
      "Epoch: 69\n",
      "1072/1072: [===============================>] - ETA 0.0s\n",
      "Epoch: 70\n",
      "1072/1072: [===============================>] - ETA 0.0s\n",
      "Epoch: 71\n",
      "1072/1072: [===============================>] - ETA 0.0s\n",
      "Epoch: 72\n",
      "1072/1072: [===============================>] - ETA 0.0s\n",
      "Epoch: 73\n",
      "1072/1072: [===============================>] - ETA 0.0s\n",
      "Epoch: 74\n",
      " 576/1072: [================>...............] - ETA 0.2s\n",
      "Iteration: 2500. Loss: 0.004648327827453613. Balanced Accuracy: 0.7320576476490456\n",
      "1072/1072: [===============================>] - ETA 0.0s\n",
      "Epoch: 75\n",
      "1072/1072: [===============================>] - ETA 0.0s\n",
      "Epoch: 76\n",
      "1072/1072: [===============================>] - ETA 0.0s\n",
      "Epoch: 77\n",
      "1072/1072: [===============================>] - ETA 0.0s\n",
      "Epoch: 78\n",
      "1072/1072: [===============================>] - ETA 0.0s\n",
      "Epoch: 79\n",
      "1072/1072: [===============================>] - ETA 0.0s\n",
      "Epoch: 80\n",
      "1072/1072: [===============================>] - ETA 0.0s\n",
      "Epoch: 81\n",
      "1072/1072: [===============================>] - ETA 0.0s\n",
      "Epoch: 82\n",
      "1072/1072: [===============================>] - ETA 0.0s\n",
      "Epoch: 83\n",
      "1072/1072: [===============================>] - ETA 0.0s\n",
      "Epoch: 84\n",
      "1072/1072: [===============================>] - ETA 0.0s\n",
      "Epoch: 85\n",
      "1072/1072: [===============================>] - ETA 0.0s\n",
      "Epoch: 86\n",
      "1072/1072: [===============================>] - ETA 0.0s\n",
      "Epoch: 87\n",
      "1072/1072: [===============================>] - ETA 0.0s\n",
      "Epoch: 88\n",
      "1072/1072: [===============================>] - ETA 0.0s\n",
      "Epoch: 89\n",
      " 256/1072: [======>.........................] - ETA 0.3s\n",
      "Iteration: 3000. Loss: 0.20294739305973053. Balanced Accuracy: 0.7747362255426772\n",
      "1072/1072: [===============================>] - ETA 0.0s\n"
     ]
    }
   ],
   "source": [
    "niter = 0\n",
    "history = pd.DataFrame()\n",
    "train_acc = []\n",
    "val_acc = []\n",
    "for epoch in range(num_epochs):\n",
    "    print('Epoch: {}'.format(epoch+1))\n",
    "    \n",
    "    for i, (images, labels) in enumerate(Bar(train_loader)):\n",
    "\n",
    "        #######################\n",
    "        #  USE GPU FOR MODEL  #\n",
    "        #######################\n",
    "        if torch.cuda.is_available():\n",
    "            images = Variable(images.unsqueeze(1).cuda())\n",
    "            labels = Variable(labels.cuda())\n",
    "        else:\n",
    "            images = Variable(images.unsqueeze(1))\n",
    "            labels = Variable(labels)\n",
    "        \n",
    "        # Clear gradients w.r.t. parameters\n",
    "        optimizer.zero_grad()\n",
    "        \n",
    "        # Forward pass to get output/logits\n",
    "        #images = images.unsqueeze(1).type(torch.FloatTensor).cuda()\n",
    "        outputs = model(images)\n",
    "        \n",
    "        # Calculate Loss: softmax --> cross entropy loss\n",
    "        loss = criterion(outputs, labels)\n",
    "        \n",
    "        # Getting gradients w.r.t. parameters\n",
    "        loss.backward()\n",
    "        \n",
    "        # Updating parameters\n",
    "        optimizer.step()\n",
    "        \n",
    "        niter += 1\n",
    "        \n",
    "        if niter % 500 == 0:\n",
    "            # Calculate Accuracy         \n",
    "            y_pred = []\n",
    "            y_test = []\n",
    "            y_train = []\n",
    "            \n",
    "            # Iterate through test dataset\n",
    "            for images, labels in test_loader:\n",
    "                #######################\n",
    "                #  USE GPU FOR MODEL  #\n",
    "                #######################\n",
    "                if torch.cuda.is_available():\n",
    "                    images = Variable(images.unsqueeze(1).cuda())\n",
    "                else:\n",
    "                    images = Variable(images.unsqueeze(1))\n",
    "                \n",
    "                # Forward pass only to get logits/output\n",
    "                outputs = model(images)\n",
    "                \n",
    "                # Get predictions from the maximum value\n",
    "                _, predicted = torch.max(outputs.data, 1)\n",
    "                \n",
    "                \n",
    "                #######################\n",
    "                #  USE GPU FOR MODEL  #\n",
    "                #######################\n",
    "                # Total correct predictions\n",
    "             \n",
    "                if torch.cuda.is_available():\n",
    "                    y_pred += predicted.cpu().numpy().tolist()\n",
    "                    y_test += labels.cpu().numpy().tolist()\n",
    "                    \n",
    "                else:\n",
    "                    y_pred += predicted.numpy()\n",
    "                    y_test += labels.numpy()\n",
    "            \n",
    "\n",
    "            \n",
    "            accuracy = balanced_accuracy_score(y_test, y_pred)\n",
    "            val_acc.append(accuracy)\n",
    "            \n",
    "            \n",
    "            # Print Loss\n",
    "            print('\\nIteration: {}. Loss: {}. Balanced Accuracy: {}'.format(niter, loss.data, accuracy))\n",
    "            \n",
    "            y_pred = []\n",
    "            # Iterate through train dataset\n",
    "            for images, labels in train_loader:\n",
    "                #######################\n",
    "                #  USE GPU FOR MODEL  #\n",
    "                #######################\n",
    "                if torch.cuda.is_available():\n",
    "                    images = Variable(images.unsqueeze(1).cuda())\n",
    "                else:\n",
    "                    images = Variable(images.unsqueeze(1))\n",
    "                \n",
    "                # Forward pass only to get logits/output\n",
    "                outputs = model(images)\n",
    "                \n",
    "                # Get predictions from the maximum value\n",
    "                _, predicted = torch.max(outputs.data, 1)\n",
    "                \n",
    "                \n",
    "                #######################\n",
    "                #  USE GPU FOR MODEL  #\n",
    "                #######################\n",
    "                # Total correct predictions\n",
    "             \n",
    "                if torch.cuda.is_available():\n",
    "                    y_pred += predicted.cpu().numpy().tolist()\n",
    "                    y_train += labels.cpu().numpy().tolist()\n",
    "                else:\n",
    "                    y_pred += predicted.numpy()\n",
    "                    y_train += labels.numpy()\n",
    "            \n",
    "\n",
    "            \n",
    "            accuracy = balanced_accuracy_score(y_train, y_pred)\n",
    "            train_acc.append(accuracy)\n",
    "\n",
    "history['val_acc'] = val_acc\n",
    "history['acc'] = train_acc"
   ]
  },
  {
   "cell_type": "code",
   "execution_count": 31,
   "metadata": {},
   "outputs": [],
   "source": [
    "%matplotlib inline \n",
    "import matplotlib.pyplot as plt"
   ]
  },
  {
   "cell_type": "code",
   "execution_count": 32,
   "metadata": {},
   "outputs": [
    {
     "data": {
      "image/png": "[encoded data removed]",
      "text/plain": [
       "<Figure size 864x432 with 2 Axes>"
      ]
     },
     "metadata": {
      "needs_background": "light"
     },
     "output_type": "display_data"
    }
   ],
   "source": [
    "fig, axarr = plt.subplots(figsize=(12,6), ncols=2)\n",
    "axarr[0].plot(range(0, len(history)), history['acc'], label='train score')\n",
    "axarr[0].plot(range(0, len(history)), history['val_acc'], label='test score')\n",
    "axarr[0].set_xlabel('Number of Epochs x 14', fontsize=18)\n",
    "axarr[0].set_ylabel('Accuracy', fontsize=18)\n",
    "axarr[0].set_ylim([0,1])\n",
    "axarr[1].plot(range(0, len(history)), history['acc'], label='train score')\n",
    "axarr[1].plot(range(0, len(history)), history['val_acc'], label='test score')\n",
    "axarr[1].set_xlabel('Number of Epochs x 14', fontsize=18)\n",
    "axarr[1].set_ylabel('Accuracy', fontsize=18)\n",
    "axarr[1].set_ylim([0.7,1])\n",
    "plt.legend()\n",
    "plt.show()"
   ]
  },
  {
   "cell_type": "raw",
   "metadata": {},
   "source": [
    "# Print model's state_dict\n",
    "print(\"Model's state_dict:\")\n",
    "for param_tensor in model.state_dict():\n",
    "    print(param_tensor, \"\\t\", model.state_dict()[param_tensor].size())\n",
    "\n",
    "# Print optimizer's state_dict\n",
    "print(\"Optimizer's state_dict:\")\n",
    "for var_name in optimizer.state_dict():\n",
    "    print(var_name, \"\\t\", optimizer.state_dict()[var_name])"
   ]
  }
 ],
 "metadata": {
  "kernelspec": {
   "display_name": "Pytorch (base env)",
   "language": "python",
   "name": "base"
  },
  "language_info": {
   "codemirror_mode": {
    "name": "ipython",
    "version": 3
   },
   "file_extension": ".py",
   "mimetype": "text/x-python",
   "name": "python",
   "nbconvert_exporter": "python",
   "pygments_lexer": "ipython3",
   "version": "3.7.1"
  }
 },
 "nbformat": 4,
 "nbformat_minor": 2
}
